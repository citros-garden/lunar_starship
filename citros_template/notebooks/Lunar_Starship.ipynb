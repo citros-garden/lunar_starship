{
    "cells": [
        {
            "cell_type": "code",
            "execution_count": null,
            "id": "95cc3084eb338f6ee9b68209e0b776c2",
            "metadata": {
                "execution": {
                    "iopub.execute_input": 3460
                }
            },
            "outputs": [],
            "source": [
                "import numpy as np\n",
                "import matplotlib.pyplot as plt\n",
                "from citros_data_analysis import data_access as da\n",
                "from prettytable import PrettyTable, ALL\n",
                "print(f\"CITROS version {da.get_version()}\")\n",
                "batch = os.getenv('bid')\n",
                "print(f\"batch id: {os.getenv('bid')}\")\n",
                "print(f\"sid: {os.getenv('sid')}\")\n",
                "if not batch:\n",
                "    print(\"please add context batch...\")\n",
                "citros = da.CitrosDB(batch = os.getenv('bid'))"
            ]
        },
        {
            "cell_type": "code",
            "execution_count": null,
            "id": "92e0a7fcfd31e4cc149f36e1ad5dd1d4",
            "metadata": {
                "execution": {
                    "iopub.execute_input": 260
                }
            },
            "outputs": [],
            "source": [
                "#show the version\n",
                "print(da.get_version())"
            ]
        },
        {
            "cell_type": "code",
            "execution_count": null,
            "id": "750cad1db1eabdf642e623501735635f",
            "metadata": {
                "execution": {
                    "iopub.execute_input": 2152
                }
            },
            "outputs": [],
            "source": [
                "citros.info().print()"
            ]
        },
        {
            "cell_type": "code",
            "execution_count": null,
            "id": "a5e64fd6720b7fef54245f7c8c5f9d24",
            "metadata": {
                "execution": {
                    "iopub.execute_input": 372
                }
            },
            "outputs": [],
            "source": [
                "citros.topic('/lunar_starship/state').info().print()"
            ]
        },
        {
            "cell_type": "code",
            "execution_count": null,
            "id": "cd4b276be965c50cae9c362d120c88ef",
            "metadata": {
                "execution": {
                    "iopub.execute_input": 2975
                }
            },
            "outputs": [],
            "source": [
                "#To plot a result, for example 'data.dyn_local_level.lla[1]' vs. 'rid' separetly for each sid, execute:\n",
                "citros.topic('/lunar_starship/state').data(['data.data[0]'])\\\n",
                "      .set_index(['rid','sid']).unstack()['data.data[0]'].plot()"
            ]
        },
        {
            "cell_type": "code",
            "execution_count": null,
            "id": "3910a63ccbb34235dc5e45612204f788",
            "metadata": {
                "execution": {
                    "iopub.execute_input": 364
                }
            },
            "outputs": [],
            "source": [
                "#If the amount of data is too large, sampling functions skip(), avg() and move_avg() may be applied.\n",
                "#skip(n) is used to select every nth message.\n",
                "#Limits on sid, rid and time are applyied before selection.\n",
                "#Selection for each sid is performed separately.\n",
                "\n",
                "#The code below select only each 10th messages:\n",
                "print(citros.topic('/dynamics')\n",
                "            .sid([1,2]).rid(start = 5, end = 80).time(start = 5)\n",
                "            .skip(10)\n",
                "            .data([\"data.dyn_inertial.f_b[0]\",\"data.dyn_local_level.lla[1]\"]))"
            ]
        },
        {
            "cell_type": "code",
            "execution_count": null,
            "id": "9f0fe6056a4d4a47d50fcdcc93dfb005",
            "metadata": {
                "execution": {
                    "iopub.execute_input": 355
                }
            },
            "outputs": [],
            "source": [
                "#Instead of just skipping messages, each n messages may be everaged by avg(n).\n",
                "#Limits on sid, rid and time are applyied before averaging.\n",
                "#Averaging for each sid is performed separately.\n",
                "#The value of 'rid' for each everaged range is set as a minimum value among the averaged rid values.\n",
                "#Only numeric values may be averaged and the labels of the json-data columns with numeric content \n",
                "#should be explicitly listed in data([]).\n",
                "\n",
                "#To everage each 10 messages:\n",
                "print(citros.topic('/dynamics')\n",
                "            .sid([1,2]).rid(start = 5, end = 80).time(start = 5)\n",
                "            .avg(10)\n",
                "            .data([\"data.dyn_inertial.f_b[0]\",\"data.dyn_local_level.lla[1]\"]))"
            ]
        },
        {
            "cell_type": "code",
            "execution_count": null,
            "id": "cb441ff953807c83a89eac6c517e374b",
            "metadata": {
                "execution": {
                    "iopub.execute_input": 344
                }
            },
            "outputs": [],
            "source": [
                "#Use move_avg(n, m) to apply moving average over n messages and select each m-th row of the result.\n",
                "#Limits on sid, rid and time are applyied before averaging and selection.\n",
                "#Averaging and selection for each sid is performed separately.\n",
                "#The value of 'rid' for each everaged range is set as a minimum value among the averaged rid values.\n",
                "#Only numeric values may be averaged and the labels of the json-data columns with numeric content \n",
                "#should be explicitly listed in data([]).\n",
                "\n",
                "#To average each 10 messages and select every second row of the result:\n",
                "print(citros.topic('/dynamics')\n",
                "            .sid([1,2]).rid(start = 5, end = 80).time(start = 5)\n",
                "            .move_avg(10,2)\n",
                "            .data([\"data.dyn_inertial.f_b[0]\",\"data.dyn_local_level.lla[1]\"]))"
            ]
        },
        {
            "cell_type": "code",
            "execution_count": null,
            "id": "f41bef0d6ac7cb5e30dc8c856b47f018",
            "metadata": {
                "execution": {
                    "iopub.execute_input": 336
                }
            },
            "outputs": [],
            "source": [
                "#To get sizes of tables in the current schema, use citros.get_batch_size()\n",
                "#Each resulting row contains name of the batch, batch size and total size with indexes\n",
                "\n",
                "result = citros.get_batch_size()\n",
                "\n",
                "#Use PrettyTable to print the result\n",
                "table = PrettyTable(field_names=['batch', 'size', 'total_size'], align='l')\n",
                "table.add_rows(result)\n",
                "print(table)"
            ]
        },
        {
            "cell_type": "code",
            "execution_count": null,
            "id": "aa605bce16ec90bf6041bacdcc217656",
            "metadata": {
                "execution": {
                    "iopub.execute_input": 444
                }
            },
            "outputs": [],
            "source": [
                "#Print unique values or unique combination of values.\n",
                "\n",
                "#For example, to get all possible topics:\n",
                "column_names = ['topic']\n",
                "result = citros.get_unique_values(column_names)\n",
                "\n",
                "#print the result\n",
                "print(result)"
            ]
        },
        {
            "cell_type": "code",
            "execution_count": null,
            "id": "92184dff4a94930bafb765efcbc74ad6",
            "metadata": {
                "execution": {
                    "iopub.execute_input": 486
                }
            },
            "outputs": [],
            "source": [
                "#To get unique combination of values, specify list of the columns in \"column_names\".\n",
                "#For example, to get unique combination of topic-type:\n",
                "column_names = ['topic', 'type']\n",
                "\n",
                "#Some constraintes may be specified by filter_by(), for example to get all possible types for topics '/config' and '/dynamics':\n",
                "filter_by = {'topic' : ['/config', '/dynamics']}\n",
                "result = citros.get_unique_values(column_names, filter_by = filter_by)\n",
                "\n",
                "#print the result\n",
                "table = PrettyTable(field_names=column_names, align='r')\n",
                "table.add_rows(result)\n",
                "print(table)"
            ]
        },
        {
            "cell_type": "code",
            "execution_count": null,
            "id": "4103d675782996aa7b05a7c7878ef0c4",
            "metadata": {
                "execution": {
                    "iopub.execute_input": 1231
                }
            },
            "outputs": [],
            "source": [
                "#Print max values of the \"column_name\"\n",
                "\n",
                "#name of the column to find max value\n",
                "column_name = 'sid'\n",
                "\n",
                "#Some constraints:\n",
                "filter_by = {'topic' : ['/dynamics']}\n",
                "\n",
                "result = citros.get_max_value(column_name, filter_by)\n",
                "print(\"max value of the column '{}' : {}\".format(column_name, result))"
            ]
        },
        {
            "cell_type": "code",
            "execution_count": null,
            "id": "16c8b8e6b1bb620873150c632d4ded27",
            "metadata": {
                "execution": {
                    "iopub.execute_input": 525
                }
            },
            "outputs": [],
            "source": [
                "#Print min values of the \"column_names\"\n",
                "\n",
                "#name of the column to find min value\n",
                "column_name = 'sid'\n",
                "\n",
                "#Some constraints:\n",
                "filter_by = {'topic' : ['/dynamics']}\n",
                "\n",
                "\n",
                "result = citros.get_min_value( column_name, filter_by)\n",
                "print(\"min value of the column '{}' : {}\".format(column_name, result))"
            ]
        },
        {
            "cell_type": "code",
            "execution_count": null,
            "id": "85cbaccced5db8107896ef15b885de7d",
            "metadata": {
                "execution": {
                    "iopub.execute_input": 351
                }
            },
            "outputs": [],
            "source": [
                "#Data structure can be also be shown by citros.get_data_structure()\n",
                "#It returns topic, type and json-data structure.\n",
                "\n",
                "#leave only topics of interest or leave topic = [] to see information for all topics:\n",
                "topic = ['/config']\n",
                "\n",
                "result = citros.get_data_structure(topic)\n",
                "\n",
                "#use prettytable to print the result:\n",
                "header = ['topic', 'type', 'data']\n",
                "table = PrettyTable(field_names=header, align='r')\n",
                "table.align['data'] = 'l'\n",
                "table.hrules = ALL\n",
                "table.add_rows(result)\n",
                "print(table)"
            ]
        },
        {
            "cell_type": "code",
            "execution_count": null,
            "id": "053a87669b1c5efc22687b09d48c24f7",
            "metadata": {
                "execution": {
                    "iopub.execute_input": 1576
                }
            },
            "outputs": [],
            "source": [
                "#Print number of the rows in the column \"column_name\"\n",
                "\n",
                "#name of the column of interest\n",
                "column_name = 'type'\n",
                "\n",
                "#some constraints\n",
                "filter_by = {'topic' : ['/dynamics'], 'sid' : [1]}\n",
                "\n",
                "#group the result, for example by topics:\n",
                "group_by = ['topic']\n",
                "#or show the total counts with group_by = []\n",
                "\n",
                "counts = citros.get_counts(column_name, filter_by = filter_by, group_by = group_by)\n",
                "\n",
                "#print the result:\n",
                "if len(group_by) == 0:\n",
                "    print(\"number of rows in column '{}' : {}\".format(column_name, counts[0][0]))\n",
                "else:\n",
                "    print(\"number of rows in column '{}':\".format(column_name))\n",
                "    table = PrettyTable(field_names= group_by + ['counts'], align='r')\n",
                "    table.add_rows(counts)\n",
                "    table.border = False\n",
                "    print(table)"
            ]
        },
        {
            "cell_type": "code",
            "execution_count": null,
            "id": "8e46f30cb51a4f3fb8bd609db220d702",
            "metadata": {
                "execution": {
                    "iopub.execute_input": 450
                }
            },
            "outputs": [],
            "source": [
                "#Print number of the unique values in the column \"column_name\"\n",
                "\n",
                "#name of the column of interest\n",
                "column_name = 'type'\n",
                "\n",
                "#some constraints\n",
                "filter_by = {'topic' : ['/dynamics'], 'sid' : [1]}\n",
                "\n",
                "#group the result, for example by topics:\n",
                "group_by = ['topic']\n",
                "#or show the total counts with group_by = []\n",
                "\n",
                "counts = citros.get_unique_counts(column_name, filter_by = filter_by, group_by = group_by)\n",
                "if len(group_by) == 0:\n",
                "    print(\"number of unique values in column '{}' : {}\".format(column_name, counts[0][0]))\n",
                "else:\n",
                "    print(\"number of unique values in column '{}':\".format(column_name))\n",
                "    table = PrettyTable(field_names= group_by + ['unique_counts'], align='r')\n",
                "    table.add_rows(counts)\n",
                "    table.border = False\n",
                "    print(table)"
            ]
        },
        {
            "cell_type": "code",
            "execution_count": null,
            "id": "127b204079699a68792b6f4735cb935d",
            "metadata": {
                "execution": {
                    "iopub.execute_input": 392
                }
            },
            "outputs": [],
            "source": [
                "#This way of downloading data allows to specify more precisly what to download.\n",
                "#It may be used instead of citros.topic(topic_name).data() in the following cases:\n",
                "#-when constraints must be applied to a json-data columns;\n",
                "#-when the order of the output must be specified;\n",
                "#-when some of the columns, such as time, sid, rid, topic, type (all but json-data column) are not desired in the ouput;\n",
                "#Then the function citros.get_data(...) may be helpful.\n",
                "\n",
                "#Specify topic:\n",
                "topic = '/dynamics'  \n",
                "\n",
                "#to download all data from json column \"data\": data_query = []. This way json objects will be separeted into columns.\n",
                "#if the \"data\" column is desired as a json object, data_query = [\"data\"]\n",
                "#if only some of the json objects are needed, for example \"data.dyn_inertial.f_b\" and \"data.dyn_local_level.lla\", \n",
                "# data_query = [\"data.dyn_inertial.f_b\" and \"data.dyn_local_level.lla\"]\n",
                "#if there are json arrays in the data, to collect the values specify index: data_query = [\"data.dyn_local_level.lla[0]\"]\n",
                "data_query = [\"data.dyn_local_level.lla[0]\", \"data.dyn_inertial.f_b[0]\"]\n",
                "\n",
                "#Additional columns are all columns, but the \"data\" column.\n",
                "#to get all columns, additional_columns = []\n",
                "additional_columns = ['rid','sid']\n",
                "\n",
                "#Apply constraints.\n",
                "#To get exact values, specify them in a list: for example, sid equals 1 or 2: filter_by = {'sid' : [1,2]}\n",
                "\n",
                "#To apply lower and upper limits, specify them in a dictionary by key words:\n",
                "#-'gt' & 'gte' for '>' & '>='\n",
                "#-'lt' & 'lte' for '<' & '<='\n",
                "#for example, to set 1 < sid <= 6 : filter_by = {'sid': {'gt' : 1, 'lte' : 6}\n",
                "\n",
                "#All this constraints may be applied to the json-data values as well, if they are numeric\n",
                "\n",
                "#for no filter, leave filter_by = {}\n",
                "filter_by = {'sid':[1,2], \"rid\": {'gt':10, 'lte':1000}, \"data.dyn_inertial.f_b[0]\": {'gt': 0}}\n",
                "\n",
                "#order the result by some columns in descending aor ascending order.\n",
                "#leave order_by = {} for the default order\n",
                "order_by = {'sid':'desc', 'rid':'asc'}\n",
                "\n",
                "#save the result in a \"df\"\n",
                "df = citros.get_data(topic, data_query, additional_columns = additional_columns, \n",
                "                                     filter_by = filter_by, order_by = order_by)\n",
                "print('length of the output table: ', len(df))\n",
                "print(df)"
            ]
        },
        {
            "cell_type": "code",
            "execution_count": null,
            "id": "c971cc5afe5ce6aa9e12b408d16337d5",
            "metadata": {
                "execution": {
                    "iopub.execute_input": 442
                }
            },
            "outputs": [],
            "source": [
                "#Function get_data(...) may be combined with the way we set topic, rid, sid and time previously:\n",
                "\n",
                "df = citros.topic('/dynamics')\\\n",
                "           .sid([1,2])\\\n",
                "           .rid(start = 11, end = 1000)\\\n",
                "           .get_data(data_query = [\"data.dyn_local_level.lla[0]\", \"data.dyn_inertial.f_b[0]\"],\n",
                "                     additional_columns = ['rid','sid'], \n",
                "                     filter_by = {\"data.dyn_inertial.f_b[0]\": {'gt': 0}}, \n",
                "                     order_by = {'sid':'desc', 'rid':'asc'})\n",
                "print(df)"
            ]
        },
        {
            "cell_type": "code",
            "execution_count": null,
            "id": "8bfed0bafe851596c1c4556c96975f4b",
            "metadata": {
                "execution": {
                    "iopub.execute_input": 644
                }
            },
            "outputs": [],
            "source": [
                "#plot simple graph 'data.dyn_local_level.lla[0]' vs 'rid' for different sid\n",
                "\n",
                "citros.plot_graph(df, 'rid', 'data.dyn_local_level.lla[0]', '-')"
            ]
        },
        {
            "cell_type": "code",
            "execution_count": null,
            "id": "559982202a752fb85077d25465fb5c15",
            "metadata": {
                "execution": {
                    "iopub.execute_input": 346
                }
            },
            "outputs": [],
            "source": [
                "#Sampling function, such as skipping, averaging and moving everage may be applied too.\n",
                "#They are specified by 'method': 'skip', 'avg' or 'move_avg'\n",
                "\n",
                "#Method 'skip' selects every n_skip-th messages.\n",
                "#For each 'sid' selection is performed independently.\n",
                "#Constraints on additional columns are applied BEFORE n_skip-th selection, while\n",
                "#constraints on columns from json-data are applied AFTER n_skip-th selection.\n",
                "\n",
                "#Applying 'skip' to the previous query:\n",
                "\n",
                "df = citros.get_data(topic, data_query, additional_columns = additional_columns, \n",
                "                                     filter_by = filter_by, order_by = order_by, method = 'skip', n_skip = 5)\n",
                "print('length of the output table: ', len(df))\n",
                "print(df)"
            ]
        },
        {
            "cell_type": "code",
            "execution_count": null,
            "id": "0f9ed3cff17f908af1a941be8707af71",
            "metadata": {
                "execution": {
                    "iopub.execute_input": 376
                }
            },
            "outputs": [],
            "source": [
                "#Method 'avg' averages each n_avg messages.\n",
                "#For each 'sid' averaging is performed independently.\n",
                "#The output value of 'rid' for each everaged range is set as a minimum value among the averaged rid values.\n",
                "#Constraints on additional columns are applied BEFORE averaging, while\n",
                "#constraints on columns from json-data are applied AFTER averaging.\n",
                "\n",
                "df = citros.get_data(topic, data_query, additional_columns = additional_columns, \n",
                "                                     filter_by = filter_by, order_by = order_by, method = 'avg', n_avg = 5)\n",
                "print('length of the output table: ', len(df))\n",
                "print(df)"
            ]
        },
        {
            "cell_type": "code",
            "execution_count": null,
            "id": "3a759e4c477d4fe6ec2e926ffa7fc9df",
            "metadata": {
                "execution": {
                    "iopub.execute_input": 1062
                }
            },
            "outputs": [],
            "source": [
                "#Method 'move_avg' performes moving averaging over n_avg messages and select every n_skip-th rows of the result.\n",
                "#For each 'sid' averaging and selection are performed independently.\n",
                "#The output value of 'rid' for each everaged range is set as a minimum value among the averaged rid values.\n",
                "#Constraints on additional columns are applied BEFORE averaging and selection, while\n",
                "#constraints on columns from json-data are applied AFTER averaging and selection.\n",
                "\n",
                "df = citros.get_data(topic, data_query, additional_columns = additional_columns, \n",
                "                                     filter_by = filter_by, order_by = order_by, method = 'move_avg', n_avg = 10, n_skip = 2)\n",
                "print('length of the output table: ', len(df))\n",
                "print(df)"
            ]
        },
        {
            "cell_type": "code",
            "execution_count": null,
            "id": "2b0aef4a01c794c06f0d434468ac2c37",
            "metadata": {
                "execution": {
                    "iopub.execute_input": 614
                }
            },
            "outputs": [],
            "source": [
                "#get tables with different sid separetly by citros.get_sid_tables()\n",
                "#the returning dictionary containes sid as dictionary keys and tables as dictionary values\n",
                "#such sampling methods as skipping, averaging and calculation of moving average may be applied too.\n",
                "\n",
                "#topic:\n",
                "topic = '/dynamics' \n",
                "\n",
                "#columns from \"data\"\n",
                "data_query = [\"data.dyn_inertial.f_b[0]\",\"data.dyn_local_level.lla[1]\"]\n",
                "\n",
                "#columns outside \"data\"\n",
                "additional_columns = ['sid','rid','time']\n",
                "\n",
                "#constraints\n",
                "#Limits for non-data columns are applied BEFORE skipping rows, \n",
                "#while constraints for json-data columns are applied AFTER skipping\n",
                "filter_by = {'sid':[1,2], \"rid\": {'gt':10, 'lte':1000}, \"data.dyn_inertial.f_b[0]\": {'gt': 0}}\n",
                "\n",
                "#order of the result\n",
                "order_by = {'sid':'desc', 'rid':'asc'}\n",
                "\n",
                "#average over 10 rows\n",
                "n_avg = 10\n",
                "\n",
                "dfs = citros.get_sid_tables(topic, data_query, additional_columns = additional_columns, \n",
                "                                     filter_by = filter_by, order_by = order_by, method = 'avg', n_avg = n_avg)\n",
                "print('sid values are: {}\\n'.format(list(dfs.keys())))\n",
                "print('table with sid = 1:')\n",
                "print(dfs[1])"
            ]
        },
        {
            "cell_type": "code",
            "execution_count": null,
            "id": "f033b761db0d278a4123d7e1dfdca0ef",
            "metadata": {
                "execution": {
                    "iopub.execute_input": null,
                    "iopub.status.busy": null,
                    "iopub.status.idle": null,
                    "shell.execute_reply": null
                }
            },
            "outputs": [],
            "source": [
                "#The end!"
            ]
        }
    ],
    "metadata": {
        "language_info": {
            "name": "python"
        }
    },
    "nbformat": 4,
    "nbformat_minor": 4
}
